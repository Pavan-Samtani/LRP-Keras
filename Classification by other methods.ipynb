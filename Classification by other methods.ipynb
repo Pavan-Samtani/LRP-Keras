{
 "cells": [
  {
   "cell_type": "code",
   "execution_count": 54,
   "metadata": {},
   "outputs": [],
   "source": [
    "from tensorflow.examples.tutorials.mnist import input_data\n",
    "import matplotlib.pyplot as plt"
   ]
  },
  {
   "cell_type": "code",
   "execution_count": 33,
   "metadata": {},
   "outputs": [
    {
     "name": "stdout",
     "output_type": "stream",
     "text": [
      "Extracting data/MNIST/train-images-idx3-ubyte.gz\n",
      "Extracting data/MNIST/train-labels-idx1-ubyte.gz\n",
      "Extracting data/MNIST/t10k-images-idx3-ubyte.gz\n",
      "Extracting data/MNIST/t10k-labels-idx1-ubyte.gz\n"
     ]
    }
   ],
   "source": [
    "data = input_data.read_data_sets('data/MNIST/', one_hot=False)"
   ]
  },
  {
   "cell_type": "code",
   "execution_count": 38,
   "metadata": {},
   "outputs": [],
   "source": [
    "X_train = data.train.images.reshape((-1,784))\n",
    "Y_train = data.train.labels.T\n",
    "X_test = data.test.images.reshape((-1,784))\n",
    "Y_test = data.test.labels.T"
   ]
  },
  {
   "cell_type": "code",
   "execution_count": 39,
   "metadata": {},
   "outputs": [
    {
     "name": "stdout",
     "output_type": "stream",
     "text": [
      "Training set shape: (55000, 784)\n",
      "Training set labels shape: (55000,)\n",
      "Test set shape: (10000, 784)\n",
      "Test set labels shape: (10000,)\n"
     ]
    }
   ],
   "source": [
    "print(\"Training set shape:\", X_train.shape)\n",
    "print(\"Training set labels shape:\", Y_train.shape)\n",
    "print(\"Test set shape:\", X_test.shape)\n",
    "print(\"Test set labels shape:\", Y_test.shape)"
   ]
  },
  {
   "cell_type": "code",
   "execution_count": 40,
   "metadata": {},
   "outputs": [],
   "source": [
    "from sklearn.naive_bayes import GaussianNB"
   ]
  },
  {
   "cell_type": "code",
   "execution_count": 62,
   "metadata": {},
   "outputs": [
    {
     "name": "stdout",
     "output_type": "stream",
     "text": [
      "Train accuracy: 0.5560727272727273\n",
      "Test accuracy: 0.5492\n"
     ]
    },
    {
     "data": {
      "image/png": "[encoded data removed]",
      "text/plain": [
       "<matplotlib.figure.Figure at 0x7f1d5ab50748>"
      ]
     },
     "metadata": {},
     "output_type": "display_data"
    }
   ],
   "source": [
    "gnb = GaussianNB()\n",
    "Y_hat_train_gnb = gnb.fit(X_train, Y_train).predict(X_train)\n",
    "Y_hat_test_gnb = gnb.predict(X_test)\n",
    "print(\"Train accuracy:\", (Y_hat_train_gnb == Y_train).sum() / Y_train.shape[0])\n",
    "print(\"Test accuracy:\", (Y_hat_test_gnb == Y_test).sum() / Y_test.shape[0])\n",
    "plt.imshow(sklearn.metrics.confusion_matrix(Y_train, Y_hat_train_gnb) / Y_train.shape[0], cmap = plt.cm.Blues)\n",
    "plt.show()"
   ]
  },
  {
   "cell_type": "code",
   "execution_count": 43,
   "metadata": {
    "collapsed": true
   },
   "outputs": [],
   "source": [
    "from sklearn.naive_bayes import BernoulliNB"
   ]
  },
  {
   "cell_type": "code",
   "execution_count": 63,
   "metadata": {},
   "outputs": [
    {
     "name": "stdout",
     "output_type": "stream",
     "text": [
      "Train accuracy: 0.8306181818181818\n",
      "Test accuracy: 0.8413\n"
     ]
    },
    {
     "data": {
      "image/png": "[encoded data removed]",
      "text/plain": [
       "<matplotlib.figure.Figure at 0x7f1d5ac8be80>"
      ]
     },
     "metadata": {},
     "output_type": "display_data"
    }
   ],
   "source": [
    "bnb = BernoulliNB()\n",
    "Y_hat_train_bnb = bnb.fit(X_train, Y_train).predict(X_train)\n",
    "Y_hat_test_bnb = bnb.predict(X_test)\n",
    "print(\"Train accuracy:\", (Y_hat_train_bnb == Y_train).sum() / Y_train.shape[0])\n",
    "print(\"Test accuracy:\", (Y_hat_test_bnb == Y_test).sum() / Y_test.shape[0])\n",
    "plt.imshow(sklearn.metrics.confusion_matrix(Y_train, Y_hat_train_bnb) / Y_train.shape[0], cmap = plt.cm.Blues)\n",
    "plt.show()"
   ]
  },
  {
   "cell_type": "code",
   "execution_count": 46,
   "metadata": {
    "collapsed": true
   },
   "outputs": [],
   "source": [
    "from sklearn.naive_bayes import MultinomialNB"
   ]
  },
  {
   "cell_type": "code",
   "execution_count": 65,
   "metadata": {},
   "outputs": [
    {
     "name": "stdout",
     "output_type": "stream",
     "text": [
      "Train accuracy: 0.8231636363636363\n",
      "Test accuracy: 0.8356\n"
     ]
    },
    {
     "data": {
      "image/png": "[encoded data removed]",
      "text/plain": [
       "<matplotlib.figure.Figure at 0x7f1d5ab9f080>"
      ]
     },
     "metadata": {},
     "output_type": "display_data"
    }
   ],
   "source": [
    "mnb = MultinomialNB()\n",
    "Y_hat_train_mnb = mnb.fit(X_train, Y_train).predict(X_train)\n",
    "Y_hat_test_mnb = mnb.predict(X_test)\n",
    "print(\"Train accuracy:\", (Y_hat_train_mnb == Y_train).sum() / Y_train.shape[0])\n",
    "print(\"Test accuracy:\", (Y_hat_test_mnb == Y_test).sum() / Y_test.shape[0])\n",
    "plt.imshow(sklearn.metrics.confusion_matrix(Y_train, Y_hat_train_mnb) / Y_train.shape[0], cmap = plt.cm.Blues)\n",
    "plt.show()"
   ]
  },
  {
   "cell_type": "code",
   "execution_count": null,
   "metadata": {},
   "outputs": [],
   "source": []
  },
  {
   "cell_type": "code",
   "execution_count": null,
   "metadata": {
    "collapsed": true
   },
   "outputs": [],
   "source": []
  }
 ],
 "metadata": {
  "kernelspec": {
   "display_name": "Python 3",
   "language": "python",
   "name": "python3"
  },
  "language_info": {
   "codemirror_mode": {
    "name": "ipython",
    "version": 3
   },
   "file_extension": ".py",
   "mimetype": "text/x-python",
   "name": "python",
   "nbconvert_exporter": "python",
   "pygments_lexer": "ipython3",
   "version": "3.6.4"
  }
 },
 "nbformat": 4,
 "nbformat_minor": 2
}
