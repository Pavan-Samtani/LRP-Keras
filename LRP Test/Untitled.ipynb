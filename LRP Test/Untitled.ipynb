{
 "cells": [
  {
   "cell_type": "code",
   "execution_count": 1,
   "metadata": {},
   "outputs": [
    {
     "name": "stderr",
     "output_type": "stream",
     "text": [
      "Using TensorFlow backend.\n"
     ]
    }
   ],
   "source": [
    "import tensorflow as tf\n",
    "import numpy as np\n",
    "from tfUtils import *\n",
    "import matplotlib.pyplot as plt\n",
    "import innvestigate"
   ]
  },
  {
   "cell_type": "code",
   "execution_count": 2,
   "metadata": {},
   "outputs": [],
   "source": [
    "from keras.layers import Input, Activation, Dense, Flatten\n",
    "from keras.models import Model"
   ]
  },
  {
   "cell_type": "code",
   "execution_count": null,
   "metadata": {},
   "outputs": [],
   "source": [
    "def create_model_1(input_shape, layers, activations, use_soft):\n",
    "    X_input = Input(input_shape)\n",
    "    X = Flatten()(X_input)\n",
    "    X = Dense(layers[0], activation = activations[0])(X)\n",
    "    X = Dense(layers[1], activation = activations[1])(X)\n",
    "    X = Dense(layers[2], activation = activations[2])(X)\n",
    "    if use_soft :\n",
    "        X = Dense(layers[3], activation = 'softmax')(X)\n",
    "    else :\n",
    "        X = Dense(layers[3], activation = 'linear')(X)\n",
    "    model = Model(inputs = X_input, outputs = X)\n",
    "    return model    "
   ]
  },
  {
   "cell_type": "code",
   "execution_count": 3,
   "metadata": {},
   "outputs": [],
   "source": [
    "def create_model_2(input_shape, layers, activations, use_soft):\n",
    "    X_input = Input(input_shape)\n",
    "    X = Flatten()(X_input)\n",
    "    X = Dense(layers[1], activations[1])(X)\n",
    "    X = Dense(layers[2], activations[2])(X)\n",
    "    if use_soft:\n",
    "        X = Dense(layers[3], 'softmax')(X)\n",
    "    else:\n",
    "        X = Dense(layers[3], 'linear')(X)\n",
    "    model = Model(inputs = X_input, outputs = X)\n",
    "    return model"
   ]
  },
  {
   "cell_type": "code",
   "execution_count": 4,
   "metadata": {},
   "outputs": [],
   "source": [
    "def create_model_3(input_shape, layers, activations, use_soft):\n",
    "    X_input = Input(input_shape)\n",
    "    X = Flatten()(X_input)\n",
    "    X = Dense(layers[2], activations[2])(X)\n",
    "    if use_soft:\n",
    "        X = Dense(layers[3], 'softmax')(X)\n",
    "    else:\n",
    "        X = Dense(layers[3], 'linear')(X)\n",
    "    model = Model(inputs = X_input, outputs = X)\n",
    "    return model"
   ]
  },
  {
   "cell_type": "code",
   "execution_count": null,
   "metadata": {},
   "outputs": [],
   "source": [
    "def intermediate_layers(X_train, Y_train, layers, activations, parameters_list, intermediate):\n",
    "    A = X_train[:]\n",
    "    for i in range(intermediate, len(layers) + 1):\n",
    "        A = np.dot(parameters_list[2 * i - 2], A) + parameters_list[2 * i - 1]\n",
    "    if intermediate == 1:\n",
    "        model = create_model_1(input_shape = (layers[0] / 2, ))\n",
    "        \n",
    "    "
   ]
  }
 ],
 "metadata": {
  "kernelspec": {
   "display_name": "Python 3",
   "language": "python",
   "name": "python3"
  },
  "language_info": {
   "codemirror_mode": {
    "name": "ipython",
    "version": 3
   },
   "file_extension": ".py",
   "mimetype": "text/x-python",
   "name": "python",
   "nbconvert_exporter": "python",
   "pygments_lexer": "ipython3",
   "version": "3.6.6"
  }
 },
 "nbformat": 4,
 "nbformat_minor": 2
}
