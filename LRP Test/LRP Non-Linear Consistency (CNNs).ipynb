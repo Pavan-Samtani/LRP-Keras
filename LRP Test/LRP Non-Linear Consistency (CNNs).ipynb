{
 "cells": [
  {
   "cell_type": "code",
   "execution_count": 2,
   "metadata": {},
   "outputs": [],
   "source": [
    "import tensorflow as tf\n",
    "import numpy as np\n",
    "from tfUtils import *\n",
    "import matplotlib.pyplot as plt\n",
    "import innvestigate"
   ]
  },
  {
   "cell_type": "code",
   "execution_count": 1,
   "metadata": {},
   "outputs": [
    {
     "name": "stderr",
     "output_type": "stream",
     "text": [
      "Using TensorFlow backend.\n"
     ]
    }
   ],
   "source": [
    "from keras.layers import Input, Activation, Dense, Flatten, ZeroPadding2D, Conv2D, BatchNormalization, MaxPooling2D\n",
    "from keras.models import Model"
   ]
  },
  {
   "cell_type": "code",
   "execution_count": 7,
   "metadata": {},
   "outputs": [],
   "source": [
    "def generate_data(m, n_x, seed = 9):\n",
    "    np.random.seed = seed\n",
    "    X = np.random.randn(m, n_x)\n",
    "    Y = np.zeros((m, 2))\n",
    "    dist = np.random.randint(low = 0, high = n_x-1, size = m)\n",
    "    for i in range(m):\n",
    "        t = np.random.rand();\n",
    "        if t < 0.5:\n",
    "            X[i, dist[i]] = -20\n",
    "            Y[i, 0] = 1\n",
    "        elif t >= 0.5:\n",
    "            X[i, dist[i]] = 20\n",
    "            Y[i, 1] = 1\n",
    "    return X, Y, dist"
   ]
  },
  {
   "cell_type": "code",
   "execution_count": 9,
   "metadata": {},
   "outputs": [],
   "source": [
    "def create_placeholders(n_h, n_w, n_c, n_y):\n",
    "    X = tf.placeholder(tf.float32, [None, n_h, n_w, n_c])\n",
    "    Y = tf.placeholder(tf.float32, [None, n_y])\n",
    "    return X, Y"
   ]
  },
  {
   "cell_type": "code",
   "execution_count": 13,
   "metadata": {},
   "outputs": [],
   "source": [
    "def initialize_parameters(layers, n_h, n_w, n_c):\n",
    "    parameters = {}\n",
    "    n_x = n_h * n_w * n_c\n",
    "    for i in range(len(layers)):\n",
    "        if layers[i][0] == 'conv2D':\n",
    "            f = layers[i][1]\n",
    "            if i != 0:\n",
    "                n_c_in = layers[i - 1] \n",
    "            else:\n",
    "                n_c_in = n_c\n",
    "            n_c_out = layers[i][2]\n",
    "            parameters[\"W\" + str(i)] = tf.get_variable('W' + str(i), [f, f, n_c_in, n_c_out], \n",
    "                                                      initializer = tf.xavier_initializer())\n",
    "            parameters[\"b\" + str(i)] = tf.get_variable('b' + str(i), shape = [1], \n",
    "                                                      initializer = tf.zeros_initializer())\n",
    "        elif layers[i][0] == 'fc':\n",
    "            n_i = layers[i][1]\n",
    "            if i == 0:\n",
    "                parameters[\"W\" + str(i)] = tf.get_variable('W' + str(i), [n_x, n_i], \n",
    "                                                      initializer = tf.xavier_initializer())\n",
    "            else:\n",
    "                if layers[i - 1][0] == 'dense':\n",
    "                    parameters[\"W\" + str(i)] = tf.get_variable('W' + str(i), [n_i_ant, n_i], \n",
    "                                                      initializer = tf.xavier_initializer())\n",
    "                elif layers[i - 1][0] == 'fc':\n",
    "                    parameters[\"W\" + str(i)] = tf.get_variable('W' + str(i), [layers[i - 1][1], n_i], \n",
    "                                                      initializer = tf.xavier_initializer())\n",
    "            parameters[\"b\" + str(i)] = tf.get_variable('b' + str(i), shape = [1, n_i], \n",
    "                                                      initializer = tf.zeros_initializer())\n",
    "    return parameters"
   ]
  },
  {
   "cell_type": "code",
   "execution_count": 5,
   "metadata": {},
   "outputs": [],
   "source": [
    "def forward_propagation(A, W, b, activation):\n",
    "    Z = tf.matmul(A, W) + b\n",
    "    if activation == \"relu\":\n",
    "        A = tf.nn.relu(Z)\n",
    "    elif activation == \"sigmoid\":\n",
    "        A = tf.nn.sigmoid(Z)\n",
    "    elif activation == \"tanh\":\n",
    "        A = tf.nn.tanh(Z)\n",
    "    elif activation == \"linear\":\n",
    "        A = Z\n",
    "    return A"
   ]
  },
  {
   "cell_type": "code",
   "execution_count": null,
   "metadata": {},
   "outputs": [],
   "source": [
    "def convolution_2D(X, W, b, strides, activation, padding = 'valid'):\n",
    "    conv = tf.nn.conv2D(X, W, strides, padding)\n",
    "    Z = tf.nn.add_biases(conv, b)\n",
    "    if activation == \"relu\":\n",
    "        A = tf.nn.relu(Z)\n",
    "    elif activation == \"sigmoid\":\n",
    "        A = tf.nn.sigmoid(Z)\n",
    "    elif activation == \"tanh\":\n",
    "        A = tf.nn.tanh(Z)\n",
    "    elif activation == \"linear\":\n",
    "        A = Z\n",
    "    return A"
   ]
  },
  {
   "cell_type": "code",
   "execution_count": 6,
   "metadata": {},
   "outputs": [],
   "source": [
    "def compute_cost(Z, Y):\n",
    "    cost = tf.reduce_mean(tf.nn.softmax_cross_entropy_with_logits(logits = Z, labels = Y))\n",
    "    return cost"
   ]
  },
  {
   "cell_type": "code",
   "execution_count": null,
   "metadata": {},
   "outputs": [],
   "source": []
  },
  {
   "cell_type": "code",
   "execution_count": 8,
   "metadata": {},
   "outputs": [],
   "source": [
    "X_train, Y_train, dist = generate_data(50000, 144)\n",
    "X_train = X_train.reshape(-1, 12, 12, 1)"
   ]
  }
 ],
 "metadata": {
  "kernelspec": {
   "display_name": "Python 3",
   "language": "python",
   "name": "python3"
  },
  "language_info": {
   "codemirror_mode": {
    "name": "ipython",
    "version": 3
   },
   "file_extension": ".py",
   "mimetype": "text/x-python",
   "name": "python",
   "nbconvert_exporter": "python",
   "pygments_lexer": "ipython3",
   "version": "3.6.6"
  }
 },
 "nbformat": 4,
 "nbformat_minor": 2
}
