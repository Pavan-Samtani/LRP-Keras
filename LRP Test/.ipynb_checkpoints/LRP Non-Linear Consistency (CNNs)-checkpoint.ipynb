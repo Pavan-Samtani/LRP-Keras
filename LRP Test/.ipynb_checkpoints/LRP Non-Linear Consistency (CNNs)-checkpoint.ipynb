{
 "cells": [
  {
   "cell_type": "code",
   "execution_count": 2,
   "metadata": {},
   "outputs": [
    {
     "name": "stderr",
     "output_type": "stream",
     "text": [
      "Using TensorFlow backend.\n"
     ]
    }
   ],
   "source": [
    "import tensorflow as tf\n",
    "import numpy as np\n",
    "from tfUtils import *\n",
    "import matplotlib.pyplot as plt\n",
    "import innvestigate"
   ]
  },
  {
   "cell_type": "code",
   "execution_count": 3,
   "metadata": {},
   "outputs": [],
   "source": [
    "from keras.layers import Input, Activation, Dense, Flatten, ZeroPadding2D, Conv2D, BatchNormalization, MaxPooling2D\n",
    "from keras.models import Model"
   ]
  },
  {
   "cell_type": "code",
   "execution_count": 7,
   "metadata": {},
   "outputs": [],
   "source": [
    "def generate_data(m, n_x, seed = 9):\n",
    "    np.random.seed = seed\n",
    "    X = np.random.randn(m, n_x)\n",
    "    Y = np.zeros((m, 2))\n",
    "    dist = np.random.randint(low = 0, high = n_x-1, size = m)\n",
    "    for i in range(m):\n",
    "        t = np.random.rand();\n",
    "        if t < 0.5:\n",
    "            X[i, dist[i]] = -20\n",
    "            Y[i, 0] = 1\n",
    "        elif t >= 0.5:\n",
    "            X[i, dist[i]] = 20\n",
    "            Y[i, 1] = 1\n",
    "    return X, Y, dist"
   ]
  },
  {
   "cell_type": "code",
   "execution_count": null,
   "metadata": {},
   "outputs": [],
   "source": [
    "def initialize_parameters(shape, name, which):\n",
    "    if which == \"weights\":\n",
    "        return tf.get_variable(name, shape, \n",
    "                               initializer = tf.contrib.layers.xavier_initializer())\n",
    "    elif which == \"bias\":\n",
    "        return tf.get_variable(name, shape, \n",
    "                              initializer = tf.zeros_initializer())\n",
    "    return"
   ]
  },
  {
   "cell_type": "code",
   "execution_count": 9,
   "metadata": {},
   "outputs": [],
   "source": [
    "def create_placeholders(n_h, n_w, n_c, n_y):\n",
    "    X = tf.placeholder(tf.float32, [None, n_h, n_w, n_c])\n",
    "    Y = tf.placeholder(tf.float32, [None, n_y])\n",
    "    return X, Y"
   ]
  },
  {
   "cell_type": "code",
   "execution_count": null,
   "metadata": {},
   "outputs": [],
   "source": [
    "def flatten(layer):\n",
    "    size = layer.shape\n",
    "    num_features = size[1] * size[2] * size[3]\n",
    "    flattened_layer = tf.reshape(layer, [-1, num_features])\n",
    "    return flattened_layer, num_features"
   ]
  },
  {
   "cell_type": "code",
   "execution_count": null,
   "metadata": {},
   "outputs": [],
   "source": [
    "def fully_connected(layer, input_features, output_features, activation, indicator):\n",
    "    weights = initialize_parameters([input_features, output_features], \"W\" + str(indicator), \"weights\")\n",
    "    bias = initialize_parameters([1, output_features], \"b\" + str(indicator), \"bias\")\n",
    "    Z = tf.matmul(layer, weights) + bias\n",
    "    if activation == \"relu\":\n",
    "        return tf.nn.relu(Z), weights, bias\n",
    "    elif activation == \"sigmoid\":\n",
    "        return tf.nn.sigmoid(Z), weights, bias\n",
    "    elif activation == \"tanh\":\n",
    "        return tf.nn.tanh(Z), weights, bias\n",
    "    elif activation == \"linear\":\n",
    "        return Z, weights, bias"
   ]
  },
  {
   "cell_type": "code",
   "execution_count": null,
   "metadata": {},
   "outputs": [],
   "source": [
    "def conv_2D(layer, filter_size, output_channels, stride, padding, activation, use_maxpool, indicator):\n",
    "    input_channels = layers.shape[3]\n",
    "    weights = initialize_parameters([filter_size, filter_size, input_channels, output_channels], \"W\" + str(indicator)\n",
    "                                   \"weights\")\n",
    "    bias = initialize_parameters([output_channels], \"b\" + str(indicator), \"bias\")\n",
    "    Z = tf.nn.conv2d(layer, weights, strides = [1, stride, stride, 1], padding = padding) + bias\n",
    "    if activation == \"relu\":\n",
    "        A = tf.nn.relu(Z)\n",
    "    elif activation == \"sigmoid\":\n",
    "        A = tf.nn.sigmoid(Z)\n",
    "    elif activation == \"tanh\":\n",
    "        A = tf.nn.tanh(Z)\n",
    "    elif activation == \"linear\":\n",
    "        A = Z\n",
    "    if use_maxpool:\n",
    "        return tf.nn.max_pool(A, ksize = [1, 2, 2, 1], strides = [1, 2, 2, 1], padding = 'VALID'), weights, bias\n",
    "    else:\n",
    "        return A, weights, bias"
   ]
  },
  {
   "cell_type": "code",
   "execution_count": 6,
   "metadata": {},
   "outputs": [],
   "source": [
    "def compute_cost(Z, Y):\n",
    "    cost = tf.reduce_mean(tf.nn.softmax_cross_entropy_with_logits(logits = Z, labels = Y))\n",
    "    return cost"
   ]
  },
  {
   "cell_type": "code",
   "execution_count": 8,
   "metadata": {},
   "outputs": [],
   "source": [
    "X_train, Y_train, dist = generate_data(50000, 144)\n",
    "X_train = X_train.reshape(-1, 12, 12, 1)"
   ]
  }
 ],
 "metadata": {
  "kernelspec": {
   "display_name": "Python 3",
   "language": "python",
   "name": "python3"
  },
  "language_info": {
   "codemirror_mode": {
    "name": "ipython",
    "version": 3
   },
   "file_extension": ".py",
   "mimetype": "text/x-python",
   "name": "python",
   "nbconvert_exporter": "python",
   "pygments_lexer": "ipython3",
   "version": "3.6.6"
  }
 },
 "nbformat": 4,
 "nbformat_minor": 2
}
